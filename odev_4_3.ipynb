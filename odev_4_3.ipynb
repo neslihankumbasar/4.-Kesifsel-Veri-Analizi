{
 "cells": [
  {
   "cell_type": "code",
   "execution_count": 1,
   "metadata": {},
   "outputs": [],
   "source": [
    "### Soru 1 :\n",
    "## Veri kümesinde yer alan değişkenlerinin tiplerini ve her bir değişkenin eksik (null) değer oranını bulun."
   ]
  },
  {
   "cell_type": "code",
   "execution_count": 2,
   "metadata": {},
   "outputs": [
    {
     "name": "stdout",
     "output_type": "stream",
     "text": [
      "<class 'pandas.core.frame.DataFrame'>\n",
      "RangeIndex: 1492 entries, 0 to 1491\n",
      "Data columns (total 25 columns):\n",
      "PRIMARY_KEY                     1492 non-null object\n",
      "STATE                           1492 non-null object\n",
      "YEAR                            1492 non-null int64\n",
      "ENROLL                          1229 non-null float64\n",
      "TOTAL_REVENUE                   1280 non-null float64\n",
      "FEDERAL_REVENUE                 1280 non-null float64\n",
      "STATE_REVENUE                   1280 non-null float64\n",
      "LOCAL_REVENUE                   1280 non-null float64\n",
      "TOTAL_EXPENDITURE               1280 non-null float64\n",
      "INSTRUCTION_EXPENDITURE         1280 non-null float64\n",
      "SUPPORT_SERVICES_EXPENDITURE    1280 non-null float64\n",
      "OTHER_EXPENDITURE               1229 non-null float64\n",
      "CAPITAL_OUTLAY_EXPENDITURE      1280 non-null float64\n",
      "GRADES_PK_G                     1319 non-null float64\n",
      "GRADES_KG_G                     1360 non-null float64\n",
      "GRADES_4_G                      1361 non-null float64\n",
      "GRADES_8_G                      1361 non-null float64\n",
      "GRADES_12_G                     1361 non-null float64\n",
      "GRADES_1_8_G                    1361 non-null float64\n",
      "GRADES_9_12_G                   1361 non-null float64\n",
      "GRADES_ALL_G                    1319 non-null float64\n",
      "AVG_MATH_4_SCORE                536 non-null float64\n",
      "AVG_MATH_8_SCORE                532 non-null float64\n",
      "AVG_READING_4_SCORE             533 non-null float64\n",
      "AVG_READING_8_SCORE             498 non-null float64\n",
      "dtypes: float64(22), int64(1), object(2)\n",
      "memory usage: 291.5+ KB\n"
     ]
    }
   ],
   "source": [
    "import pandas as pd\n",
    "import numpy as np\n",
    "states=pd.read_csv('C:/Users/neslihan.kumbasar/bootcamp/states_all.csv')\n",
    "states.info()"
   ]
  },
  {
   "cell_type": "code",
   "execution_count": 3,
   "metadata": {},
   "outputs": [
    {
     "data": {
      "text/plain": [
       "PRIMARY_KEY                      0.000000\n",
       "STATE                            0.000000\n",
       "YEAR                             0.000000\n",
       "ENROLL                          17.627346\n",
       "TOTAL_REVENUE                   14.209115\n",
       "FEDERAL_REVENUE                 14.209115\n",
       "STATE_REVENUE                   14.209115\n",
       "LOCAL_REVENUE                   14.209115\n",
       "TOTAL_EXPENDITURE               14.209115\n",
       "INSTRUCTION_EXPENDITURE         14.209115\n",
       "SUPPORT_SERVICES_EXPENDITURE    14.209115\n",
       "OTHER_EXPENDITURE               17.627346\n",
       "CAPITAL_OUTLAY_EXPENDITURE      14.209115\n",
       "GRADES_PK_G                     11.595174\n",
       "GRADES_KG_G                      8.847185\n",
       "GRADES_4_G                       8.780161\n",
       "GRADES_8_G                       8.780161\n",
       "GRADES_12_G                      8.780161\n",
       "GRADES_1_8_G                     8.780161\n",
       "GRADES_9_12_G                    8.780161\n",
       "GRADES_ALL_G                    11.595174\n",
       "AVG_MATH_4_SCORE                64.075067\n",
       "AVG_MATH_8_SCORE                64.343164\n",
       "AVG_READING_4_SCORE             64.276139\n",
       "AVG_READING_8_SCORE             66.621984\n",
       "dtype: float64"
      ]
     },
     "execution_count": 3,
     "metadata": {},
     "output_type": "execute_result"
    }
   ],
   "source": [
    "states.isnull().sum()*100/states.shape[0]"
   ]
  },
  {
   "cell_type": "code",
   "execution_count": 4,
   "metadata": {},
   "outputs": [],
   "source": [
    "### Soru 2 :\n",
    "## Verimizde yıl (year) sütunu olduğunu farketmişsinizdir. \n",
    "## Şimdilik yıl verisini unutun ve her bir gözlemin aynı yıl içerisinde yapıldığını farz edin. \n",
    "## Her bir değişken için eksik değerleri nasıl doldurabileceğinizi düşünün. \n",
    "## Eksik değerleri bir değerle doldurmak hangi değişkenler için anlamlı, hangileri için anlamsızdır?"
   ]
  },
  {
   "cell_type": "markdown",
   "metadata": {},
   "source": [
    "Year verisi cikarildiginda tablomuzda primary_key i State gibi dusunur ve onun uzerinden islem yapmaya baslarim. \n",
    "State uzerindeki boslukleri, AVG alarak doldururum. Surekli degisken gibi algilandigindan sorun olmayacaktir.\n",
    "\n",
    "states[\"STATE\"].fillna(states[\"STATE\"].mean(), inplace=True)\n",
    "\n",
    "Kategorik bir degiskenlerde ise bu calisma yaniltici olabilir, biraz daha farazi bir yaklasimdir diyebiliriz"
   ]
  },
  {
   "cell_type": "code",
   "execution_count": 5,
   "metadata": {},
   "outputs": [],
   "source": [
    "### Soru 3 :\n",
    "## Şimdi zaman faktörünü dikkate alma zamanı! \n",
    "## 2. sorudaki cevabınızı tekrar gözden geçirin ve eksik verileri o yıl içerisinde gözlemlenen değerlere dayanarak doldurun. \n",
    "## Örneğin, bir değeri ortalama değer ile doldurmak isterseniz, o yılın ortalamasını hesaplayın."
   ]
  },
  {
   "cell_type": "code",
   "execution_count": 6,
   "metadata": {},
   "outputs": [],
   "source": [
    "states[\"ENROLL\"] = states[\"ENROLL\"].replace(\"\", np.nan)\n",
    "states[\"TOTAL_REVENUE\"] = states[\"TOTAL_REVENUE\"].replace(\"\", np.nan)\n",
    "states[\"FEDERAL_REVENUE\"] = states[\"FEDERAL_REVENUE\"].replace(\"\", np.nan)\n",
    "states[\"STATE_REVENUE\"] = states[\"STATE_REVENUE\"].replace(\"\", np.nan)\n",
    "states[\"LOCAL_REVENUE\"] = states[\"LOCAL_REVENUE\"].replace(\"\", np.nan)\n",
    "states[\"TOTAL_EXPENDITURE\"] = states[\"TOTAL_EXPENDITURE\"].replace(\"\", np.nan)\n",
    "states[\"INSTRUCTION_EXPENDITURE\"] = states[\"INSTRUCTION_EXPENDITURE\"].replace(\"\", np.nan)\n",
    "states[\"SUPPORT_SERVICES_EXPENDITURE\"] = states[\"SUPPORT_SERVICES_EXPENDITURE\"].replace(\"\", np.nan)\n",
    "states[\"OTHER_EXPENDITURE\"] = states[\"OTHER_EXPENDITURE\"].replace(\"\", np.nan)\n",
    "states[\"CAPITAL_OUTLAY_EXPENDITURE\"] = states[\"CAPITAL_OUTLAY_EXPENDITURE\"].replace(\"\", np.nan)\n",
    "states[\"GRADES_PK_G\"] = states[\"GRADES_PK_G\"].replace(\"\", np.nan)\n",
    "states[\"GRADES_KG_G\"] = states[\"GRADES_KG_G\"].replace(\"\", np.nan)\n",
    "states[\"GRADES_4_G\"] = states[\"GRADES_4_G\"].replace(\"\", np.nan)\n",
    "states[\"GRADES_8_G\"] = states[\"GRADES_8_G\"].replace(\"\", np.nan)\n",
    "states[\"GRADES_12_G\"] = states[\"GRADES_12_G\"].replace(\"\", np.nan)\n",
    "states[\"GRADES_1_8_G\"] = states[\"GRADES_1_8_G\"].replace(\"\", np.nan)\n",
    "states[\"GRADES_9_12_G\"] = states[\"GRADES_9_12_G\"].replace(\"\", np.nan)\n",
    "states[\"GRADES_ALL_G\"] = states[\"GRADES_ALL_G\"].replace(\"\", np.nan)\n",
    "states[\"AVG_MATH_4_SCORE\"] = states[\"AVG_MATH_4_SCORE\"].replace(\"\", np.nan)\n",
    "states[\"AVG_MATH_8_SCORE\"] = states[\"AVG_MATH_8_SCORE\"].replace(\"\", np.nan)\n",
    "states[\"AVG_READING_4_SCORE\"] = states[\"AVG_READING_4_SCORE\"].replace(\"\", np.nan)\n",
    "states[\"AVG_READING_8_SCORE\"] = states[\"AVG_READING_8_SCORE\"].replace(\"\", np.nan)"
   ]
  },
  {
   "cell_type": "code",
   "execution_count": 9,
   "metadata": {},
   "outputs": [],
   "source": [
    "states['ENROLL'].fillna(states.groupby('YEAR')['ENROLL'].transform('mean'), inplace=True)\n",
    "states['TOTAL_REVENUE'].fillna(states.groupby('YEAR')['TOTAL_REVENUE'].transform('mean'), inplace=True)\n",
    "states['FEDERAL_REVENUE'].fillna(states.groupby('YEAR')['FEDERAL_REVENUE'].transform('mean'), inplace=True)\n",
    "states['STATE_REVENUE'].fillna(states.groupby('YEAR')['STATE_REVENUE'].transform('mean'), inplace=True)\n",
    "states['LOCAL_REVENUE'].fillna(states.groupby('YEAR')['LOCAL_REVENUE'].transform('mean'), inplace=True)\n",
    "states['TOTAL_EXPENDITURE'].fillna(states.groupby('YEAR')['TOTAL_EXPENDITURE'].transform('mean'), inplace=True)\n",
    "states['INSTRUCTION_EXPENDITURE'].fillna(states.groupby('YEAR')['INSTRUCTION_EXPENDITURE'].transform('mean'), inplace=True)\n",
    "states['SUPPORT_SERVICES_EXPENDITURE'].fillna(states.groupby('YEAR')['SUPPORT_SERVICES_EXPENDITURE'].transform('mean'), inplace=True)\n",
    "states['OTHER_EXPENDITURE'].fillna(states.groupby('YEAR')['OTHER_EXPENDITURE'].transform('mean'), inplace=True)\n",
    "states['CAPITAL_OUTLAY_EXPENDITURE'].fillna(states.groupby('YEAR')['CAPITAL_OUTLAY_EXPENDITURE'].transform('mean'), inplace=True)\n",
    "states['GRADES_PK_G'].fillna(states.groupby('YEAR')['GRADES_PK_G'].transform('mean'), inplace=True)\n",
    "states['GRADES_KG_G'].fillna(states.groupby('YEAR')['GRADES_KG_G'].transform('mean'), inplace=True)\n",
    "states['GRADES_4_G'].fillna(states.groupby('YEAR')['GRADES_4_G'].transform('mean'), inplace=True)\n",
    "states['GRADES_8_G'].fillna(states.groupby('YEAR')['GRADES_8_G'].transform('mean'), inplace=True)\n",
    "states['GRADES_12_G'].fillna(states.groupby('YEAR')['GRADES_12_G'].transform('mean'), inplace=True)\n",
    "states['GRADES_1_8_G'].fillna(states.groupby('YEAR')['GRADES_1_8_G'].transform('mean'), inplace=True)\n",
    "states['GRADES_9_12_G'].fillna(states.groupby('YEAR')['GRADES_9_12_G'].transform('mean'), inplace=True)\n",
    "states['GRADES_ALL_G'].fillna(states.groupby('YEAR')['GRADES_ALL_G'].transform('mean'), inplace=True)\n",
    "states['AVG_MATH_4_SCORE'].fillna(states.groupby('YEAR')['AVG_MATH_4_SCORE'].transform('mean'), inplace=True)\n",
    "states['AVG_MATH_8_SCORE'].fillna(states.groupby('YEAR')['AVG_MATH_8_SCORE'].transform('mean'), inplace=True)\n",
    "states['AVG_READING_4_SCORE'].fillna(states.groupby('YEAR')['AVG_READING_4_SCORE'].transform('mean'), inplace=True)\n",
    "states['AVG_READING_8_SCORE'].fillna(states.groupby('YEAR')['AVG_READING_8_SCORE'].transform('mean'), inplace=True)"
   ]
  },
  {
   "cell_type": "code",
   "execution_count": 10,
   "metadata": {},
   "outputs": [],
   "source": [
    "states.to_csv('C:/Users/neslihan.kumbasar/bootcamp/states_all_new.csv', encoding = 'utf8')"
   ]
  },
  {
   "cell_type": "code",
   "execution_count": 16,
   "metadata": {},
   "outputs": [],
   "source": [
    "### Soru 4 :\n",
    "## Bu sefer, eksik değerleri enterpolasyon yaparak doldurun."
   ]
  },
  {
   "cell_type": "code",
   "execution_count": 11,
   "metadata": {},
   "outputs": [],
   "source": [
    "states['ENROLL'].fillna(states.groupby('YEAR')['ENROLL'].apply(lambda group: group.interpolate(method='index')), inplace=True)\n",
    "states['TOTAL_REVENUE'].fillna(states.groupby('YEAR')['TOTAL_REVENUE'].apply(lambda group: group.interpolate(method='index')), inplace=True)\n",
    "states['FEDERAL_REVENUE'].fillna(states.groupby('YEAR')['FEDERAL_REVENUE'].apply(lambda group: group.interpolate(method='index')), inplace=True)\n",
    "states['STATE_REVENUE'].fillna(states.groupby('YEAR')['STATE_REVENUE'].apply(lambda group: group.interpolate(method='index')), inplace=True)\n",
    "states['LOCAL_REVENUE'].fillna(states.groupby('YEAR')['LOCAL_REVENUE'].apply(lambda group: group.interpolate(method='index')), inplace=True)\n",
    "states['TOTAL_EXPENDITURE'].fillna(states.groupby('YEAR')['TOTAL_EXPENDITURE'].apply(lambda group: group.interpolate(method='index')), inplace=True)\n",
    "states['INSTRUCTION_EXPENDITURE'].fillna(states.groupby('YEAR')['INSTRUCTION_EXPENDITURE'].apply(lambda group: group.interpolate(method='index')), inplace=True)\n",
    "states['SUPPORT_SERVICES_EXPENDITURE'].fillna(states.groupby('YEAR')['SUPPORT_SERVICES_EXPENDITURE'].apply(lambda group: group.interpolate(method='index')), inplace=True)\n",
    "states['OTHER_EXPENDITURE'].fillna(states.groupby('YEAR')['OTHER_EXPENDITURE'].apply(lambda group: group.interpolate(method='index')), inplace=True)\n",
    "states['CAPITAL_OUTLAY_EXPENDITURE'].fillna(states.groupby('YEAR')['CAPITAL_OUTLAY_EXPENDITURE'].apply(lambda group: group.interpolate(method='index')), inplace=True)\n",
    "states['GRADES_PK_G'].fillna(states.groupby('YEAR')['GRADES_PK_G'].apply(lambda group: group.interpolate(method='index')), inplace=True)\n",
    "states['GRADES_KG_G'].fillna(states.groupby('YEAR')['GRADES_KG_G'].apply(lambda group: group.interpolate(method='index')), inplace=True)\n",
    "states['GRADES_4_G'].fillna(states.groupby('YEAR')['GRADES_4_G'].apply(lambda group: group.interpolate(method='index')), inplace=True)\n",
    "states['GRADES_8_G'].fillna(states.groupby('YEAR')['GRADES_8_G'].apply(lambda group: group.interpolate(method='index')), inplace=True)\n",
    "states['GRADES_12_G'].fillna(states.groupby('YEAR')['GRADES_12_G'].apply(lambda group: group.interpolate(method='index')), inplace=True)\n",
    "states['GRADES_1_8_G'].fillna(states.groupby('YEAR')['GRADES_1_8_G'].apply(lambda group: group.interpolate(method='index')), inplace=True)\n",
    "states['GRADES_9_12_G'].fillna(states.groupby('YEAR')['GRADES_9_12_G'].apply(lambda group: group.interpolate(method='index')), inplace=True)\n",
    "states['GRADES_ALL_G'].fillna(states.groupby('YEAR')['GRADES_ALL_G'].apply(lambda group: group.interpolate(method='index')), inplace=True)\n",
    "states['AVG_MATH_4_SCORE'].fillna(states.groupby('YEAR')['AVG_MATH_4_SCORE'].apply(lambda group: group.interpolate(method='index')), inplace=True)\n",
    "states['AVG_MATH_8_SCORE'].fillna(states.groupby('YEAR')['AVG_MATH_8_SCORE'].apply(lambda group: group.interpolate(method='index')), inplace=True)\n",
    "states['AVG_READING_4_SCORE'].fillna(states.groupby('YEAR')['AVG_READING_4_SCORE'].apply(lambda group: group.interpolate(method='index')), inplace=True)\n",
    "states['AVG_READING_8_SCORE'].fillna(states.groupby('YEAR')['AVG_READING_8_SCORE'].apply(lambda group: group.interpolate(method='index')), inplace=True)\n"
   ]
  },
  {
   "cell_type": "code",
   "execution_count": 12,
   "metadata": {},
   "outputs": [],
   "source": [
    "states.to_csv('C:/Users/neslihan.kumbasar/bootcamp/states_all_new_interpolate.csv', encoding = 'utf8')"
   ]
  },
  {
   "cell_type": "code",
   "execution_count": 13,
   "metadata": {},
   "outputs": [],
   "source": [
    "### Soru 5 :\n",
    "## İkinci, üçüncü ve dördüncü sorulardaki cevaplarınızı karşılaştırın. Anlamlı bir fark görebiliyor musunuz?"
   ]
  },
  {
   "cell_type": "code",
   "execution_count": null,
   "metadata": {},
   "outputs": [],
   "source": [
    "Yapilan islemlerde ayni sonuc alindi, data yapisi "
   ]
  }
 ],
 "metadata": {
  "kernelspec": {
   "display_name": "Python 3",
   "language": "python",
   "name": "python3"
  },
  "language_info": {
   "codemirror_mode": {
    "name": "ipython",
    "version": 3
   },
   "file_extension": ".py",
   "mimetype": "text/x-python",
   "name": "python",
   "nbconvert_exporter": "python",
   "pygments_lexer": "ipython3",
   "version": "3.7.3"
  }
 },
 "nbformat": 4,
 "nbformat_minor": 2
}
