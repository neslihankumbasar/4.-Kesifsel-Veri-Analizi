{
 "cells": [
  {
   "cell_type": "code",
   "execution_count": 1,
   "metadata": {},
   "outputs": [],
   "source": [
    "### Soru 1 :\n",
    "## Rank değişkenini kategorik olarak değerlendirmenin avantaj ve dezavantajlarını göz önünde bulundurun. \n",
    "## Argümanlarınızı mentorunuzla tartışın."
   ]
  },
  {
   "cell_type": "markdown",
   "metadata": {},
   "source": [
    "Kategorik değişkenler kategorileri veya grupları temsil eder. \n",
    "Tanım olarak, kategorik bir değişken yalnızca sınırlı sayıda farklı değer alabilir. \n",
    "Sürekli ve kategorik değişkenler arasındaki temel ayrım noktası, bir değişkenin alabileceği belirgin değerlerin sayısıdır.\n",
    "Rank degiskeni sonlu gibi dusunulup \"Kategorik\" olarak degerlendirilebilse de bircok durumda \"Surekli degisken\" olarak da kabul edilebilir. \n",
    "Surekli degiskenlerden de \"Oran degiskeni\" oalrak tanimlanabilir. \n",
    "Cunku 1. siradaki kanalin goruntulenme sayisi veya abone sayisi da oransal olarak sonraki siralara fark atacaktir."
   ]
  },
  {
   "cell_type": "code",
   "execution_count": 2,
   "metadata": {},
   "outputs": [],
   "source": [
    "### Soru 2 :\n",
    "## Aşağıdaki değişkenlerin türlerini belirleyin:\n",
    "\n",
    "## Yaş\n",
    "## Maaş\n",
    "## Gelir\n",
    "## Müşteri türü\n",
    "## Hisse senedi fiyatı"
   ]
  },
  {
   "cell_type": "markdown",
   "metadata": {},
   "source": [
    "Yaş  --> Oran Degiskeni\n",
    "\n",
    "Maaş --> Oran Degiskeni\n",
    "\n",
    "Gelir --> Oran Degiskeni\n",
    "\n",
    "Müşteri türü --> Nominal Degisken\n",
    "\n",
    "Hisse senedi fiyatı --> Oran Degiskeni"
   ]
  },
  {
   "cell_type": "code",
   "execution_count": null,
   "metadata": {},
   "outputs": [],
   "source": []
  }
 ],
 "metadata": {
  "kernelspec": {
   "display_name": "Python 3",
   "language": "python",
   "name": "python3"
  },
  "language_info": {
   "codemirror_mode": {
    "name": "ipython",
    "version": 3
   },
   "file_extension": ".py",
   "mimetype": "text/x-python",
   "name": "python",
   "nbconvert_exporter": "python",
   "pygments_lexer": "ipython3",
   "version": "3.7.3"
  }
 },
 "nbformat": 4,
 "nbformat_minor": 2
}
