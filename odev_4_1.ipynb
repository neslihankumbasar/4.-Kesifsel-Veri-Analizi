{
 "cells": [
  {
   "cell_type": "code",
   "execution_count": 1,
   "metadata": {},
   "outputs": [],
   "source": [
    "### Soru 1 : \n",
    "## Keşifsel Veri Analizinin amacı nedir?"
   ]
  },
  {
   "cell_type": "markdown",
   "metadata": {},
   "source": [
    "Keşifsel Veri Analizi; bir veri setinin en önemli özelliklerini özetlemeyi amaclar. Verinin içerdiği yapıları ve değişkenleri anlamak, veri hakkında bir öngörüye sahip olmak ve hangi istatistiksel methodlar ile inceleneceğine karar vermek için verinin keşfine odaklanır. Elimizdeki veriyi anladığımızda, bir sonraki adım veri öğeleri arasındaki ilişkileri aramaya başlamaktır ve genellikle değişkenler arasındaki korelasyona odaklanır.\n"
   ]
  },
  {
   "cell_type": "code",
   "execution_count": 2,
   "metadata": {},
   "outputs": [],
   "source": [
    "### Soru 2 :\n",
    "## Bir e-ticaret şirketinin ürünlerine ait müşteri yorumlarını içeren bir veri kümesi üzerinde çalıştığınızı farz edin. \n",
    "## Şirketin web sitesi aracılığıyla toplanan müşteri yorumları içeriğinin olumlu ya da olumsuz olmasına göre 1 ila 5 arasında derecelendirilmiştir.\n",
    "\n",
    "## a. Bu ham veride ne tür problemlerle karşılaşmayı beklersiniz?\n",
    "## b. Göreviniz müşterilerin yorumlarının olumlu yada olumsuz olduğunu ortaya çıkaran özellikleri belirlemek olsaydı \n",
    "##    nasıl bir yaplaşımda bulunur ve bunun için hangi metodları kullanırdınız?\n",
    "## c. Ham veriden çıkarılabilecek yararlı özelliklerin neler olabilir? \n",
    "##    Bu verilere nasıl ulaşılabilirsiniz ve bunların faydalı olup olmayacağını nasıl anlayabilirsiniz?"
   ]
  },
  {
   "cell_type": "markdown",
   "metadata": {},
   "source": [
    "a. Insanlar derecelendirmeyi ciddiye almayip, tamamen rastgele puanlamis olabilir. Bos kayit olabilir. Begenme derecesiyle puanlama tam tersi olmus olabilir (Cok begendigi halde dusuk puan vermesi veya tersi durum). Urunlerdeki puanlama arasinda ucurum olmus olabilir. Cok zit puanlama yapilmis olabilir, yani derecelendirme arasinda ucurum olmus olabilir(scaling yapilmali).\n",
    "\n",
    "b. Istatistikler ve görselleştirme teknikleri kullanilarak, verideki sorunlar tespit edilebilir. Temizleme aşamasına geri döner ve yeni bulunan sorunları ortadan kaldırarak verileri temizleriz.\n",
    "\n",
    "c. Ileriki donemlerde kar saglayabilecek bilgilere ulasabilirsin.Buna gore calisma politikani duzenleyebilirsin vs.. Faydalı özellikleri bulma ve yaratma süreci icin \"özellik mühendisliği\" ile bu verilere ulasilabilir. Bu sayede ileri adimlara gidebiliriz."
   ]
  },
  {
   "cell_type": "code",
   "execution_count": null,
   "metadata": {},
   "outputs": [],
   "source": []
  }
 ],
 "metadata": {
  "kernelspec": {
   "display_name": "Python 3",
   "language": "python",
   "name": "python3"
  },
  "language_info": {
   "codemirror_mode": {
    "name": "ipython",
    "version": 3
   },
   "file_extension": ".py",
   "mimetype": "text/x-python",
   "name": "python",
   "nbconvert_exporter": "python",
   "pygments_lexer": "ipython3",
   "version": "3.7.3"
  }
 },
 "nbformat": 4,
 "nbformat_minor": 2
}
