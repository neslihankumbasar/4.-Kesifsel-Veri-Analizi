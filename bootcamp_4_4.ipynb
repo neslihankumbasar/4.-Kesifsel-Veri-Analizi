{
 "cells": [
  {
   "cell_type": "code",
   "execution_count": 1,
   "metadata": {},
   "outputs": [],
   "source": [
    "import matplotlib.pyplot as plt\n",
    "import numpy as np\n",
    "import pandas as pd\n",
    "plt.rcParams['figure.dpi']=100\n",
    "plt.rcParams['figure.figsize']=(8,5.5)"
   ]
  },
  {
   "cell_type": "code",
   "execution_count": 2,
   "metadata": {},
   "outputs": [],
   "source": [
    "youtube=pd.read_csv(\"C:/Users/neslihan.kumbasar/bootcamp/youtube.csv\")\n",
    "youtube.columns = ['sira', 'derece', 'kanal_adi', 'video_sayisi', 'abone_sayisi', 'goruntulenme_sayisi']"
   ]
  },
  {
   "cell_type": "code",
   "execution_count": 3,
   "metadata": {},
   "outputs": [
    {
     "data": {
      "image/png": "[encoded data removed]",
      "text/plain": [
       "<Figure size 432x288 with 1 Axes>"
      ]
     },
     "metadata": {
      "needs_background": "light"
     },
     "output_type": "display_data"
    }
   ],
   "source": [
    "baslik_font = {'family': 'arial', 'color': 'darkred','weight': 'bold','size': 13 }\n",
    "eksen_font  = {'family': 'arial', 'color': 'darkblue','weight': 'bold','size': 10 }\n",
    "plt.boxplot(youtube['goruntulenme_sayisi'])\n",
    "plt.title(\"Goruntulenme sayisinin kutu grafigi (whis=1.5)\", fontdict=baslik_font)\n",
    "plt.show()"
   ]
  },
  {
   "cell_type": "code",
   "execution_count": 4,
   "metadata": {},
   "outputs": [
    {
     "data": {
      "image/png": "[encoded data removed]",
      "text/plain": [
       "<Figure size 432x288 with 1 Axes>"
      ]
     },
     "metadata": {
      "needs_background": "light"
     },
     "output_type": "display_data"
    }
   ],
   "source": [
    "plt.boxplot(youtube['goruntulenme_sayisi'] , whis=20)\n",
    "plt.title(\"Goruntulenme sayisinin kutu grafigi (whis=20)\", fontdict=baslik_font)\n",
    "plt.show()"
   ]
  },
  {
   "cell_type": "code",
   "execution_count": 5,
   "metadata": {},
   "outputs": [
    {
     "data": {
      "image/png": "[encoded data removed]",
      "text/plain": [
       "<Figure size 432x288 with 1 Axes>"
      ]
     },
     "metadata": {
      "needs_background": "light"
     },
     "output_type": "display_data"
    }
   ],
   "source": [
    "plt.hist(youtube['goruntulenme_sayisi'] )\n",
    "plt.title(\"Goruntulenme sayisinin histogrami\", fontdict=baslik_font)\n",
    "plt.show()"
   ]
  },
  {
   "cell_type": "code",
   "execution_count": 6,
   "metadata": {},
   "outputs": [
    {
     "name": "stdout",
     "output_type": "stream",
     "text": [
      "Esik degeri : 1\n",
      "Aykiri degerlerin sayisi : 361\n",
      "----\n",
      "Esik degeri : 2\n",
      "Aykiri degerlerin sayisi : 167\n",
      "----\n",
      "Esik degeri : 3\n",
      "Aykiri degerlerin sayisi : 95\n",
      "----\n",
      "Esik degeri : 4\n",
      "Aykiri degerlerin sayisi : 64\n",
      "----\n"
     ]
    }
   ],
   "source": [
    "from scipy.stats import zscore\n",
    "z_scores=zscore(youtube['goruntulenme_sayisi'])\n",
    "for threshold in range(1,5):\n",
    "    print(\"Esik degeri : {}\" .format(threshold))\n",
    "    print(\"Aykiri degerlerin sayisi : {}\". format(len(np.where (z_scores>threshold)[0])))\n",
    "    print(\"----\")\n",
    "    "
   ]
  },
  {
   "cell_type": "code",
   "execution_count": 7,
   "metadata": {},
   "outputs": [
    {
     "data": {
      "text/html": [
       "<div>\n",
       "<style scoped>\n",
       "    .dataframe tbody tr th:only-of-type {\n",
       "        vertical-align: middle;\n",
       "    }\n",
       "\n",
       "    .dataframe tbody tr th {\n",
       "        vertical-align: top;\n",
       "    }\n",
       "\n",
       "    .dataframe thead th {\n",
       "        text-align: right;\n",
       "    }\n",
       "</style>\n",
       "<table border=\"1\" class=\"dataframe\">\n",
       "  <thead>\n",
       "    <tr style=\"text-align: right;\">\n",
       "      <th></th>\n",
       "      <th>esik_degeri</th>\n",
       "      <th>aykiri_deger_sayisi</th>\n",
       "    </tr>\n",
       "  </thead>\n",
       "  <tbody>\n",
       "    <tr>\n",
       "      <th>0</th>\n",
       "      <td>1.0</td>\n",
       "      <td>624.0</td>\n",
       "    </tr>\n",
       "    <tr>\n",
       "      <th>1</th>\n",
       "      <td>1.5</td>\n",
       "      <td>475.0</td>\n",
       "    </tr>\n",
       "    <tr>\n",
       "      <th>2</th>\n",
       "      <td>2.0</td>\n",
       "      <td>371.0</td>\n",
       "    </tr>\n",
       "    <tr>\n",
       "      <th>3</th>\n",
       "      <td>2.5</td>\n",
       "      <td>296.0</td>\n",
       "    </tr>\n",
       "    <tr>\n",
       "      <th>4</th>\n",
       "      <td>3.0</td>\n",
       "      <td>242.0</td>\n",
       "    </tr>\n",
       "    <tr>\n",
       "      <th>5</th>\n",
       "      <td>3.5</td>\n",
       "      <td>209.0</td>\n",
       "    </tr>\n",
       "    <tr>\n",
       "      <th>6</th>\n",
       "      <td>4.0</td>\n",
       "      <td>182.0</td>\n",
       "    </tr>\n",
       "    <tr>\n",
       "      <th>7</th>\n",
       "      <td>4.5</td>\n",
       "      <td>151.0</td>\n",
       "    </tr>\n",
       "  </tbody>\n",
       "</table>\n",
       "</div>"
      ],
      "text/plain": [
       "   esik_degeri  aykiri_deger_sayisi\n",
       "0          1.0                624.0\n",
       "1          1.5                475.0\n",
       "2          2.0                371.0\n",
       "3          2.5                296.0\n",
       "4          3.0                242.0\n",
       "5          3.5                209.0\n",
       "6          4.0                182.0\n",
       "7          4.5                151.0"
      ]
     },
     "execution_count": 7,
     "metadata": {},
     "output_type": "execute_result"
    }
   ],
   "source": [
    "q75,q25= np.percentile(youtube['goruntulenme_sayisi'],[75,25])\n",
    "caa=q75-q25\n",
    "esik_degerleri=pd.DataFrame(columns=['esik_degeri', 'aykiri_deger_sayisi'])\n",
    "\n",
    "for esik_degeri in np.arange(1,5,0.5):\n",
    "    min_deger=q25-(caa*esik_degeri)\n",
    "    max_deger=q75+(caa*esik_degeri)\n",
    "    aykiri_deger_sayisi=len((np.where((youtube['goruntulenme_sayisi']>max_deger)|(youtube['goruntulenme_sayisi']<min_deger))[0]))\n",
    "    esik_degerleri=esik_degerleri.append({'esik_degeri': esik_degeri,'aykiri_deger_sayisi': aykiri_deger_sayisi}, \n",
    "                                           ignore_index=True)\n",
    "esik_degerleri    "
   ]
  },
  {
   "cell_type": "code",
   "execution_count": 8,
   "metadata": {},
   "outputs": [
    {
     "data": {
      "text/plain": [
       "masked_array(data=[2468241402, 2468241402, 2468241402, ...,  311758426,\n",
       "                     14563764,   73312511],\n",
       "             mask=False,\n",
       "       fill_value=999999,\n",
       "            dtype=int64)"
      ]
     },
     "execution_count": 8,
     "metadata": {},
     "output_type": "execute_result"
    }
   ],
   "source": [
    "from scipy.stats.mstats import winsorize\n",
    "winsorize_goruntulenme=winsorize(youtube['goruntulenme_sayisi'], (0, 0.10))\n",
    "winsorize_goruntulenme"
   ]
  },
  {
   "cell_type": "code",
   "execution_count": 9,
   "metadata": {},
   "outputs": [
    {
     "data": {
      "image/png": "[encoded data removed]",
      "text/plain": [
       "<Figure size 432x288 with 1 Axes>"
      ]
     },
     "metadata": {
      "needs_background": "light"
     },
     "output_type": "display_data"
    }
   ],
   "source": [
    "plt.boxplot(winsorize_goruntulenme)\n",
    "plt.title(\"Goruntulenme sayisinin kutu grafigi (whis=1.5)\", fontdict=baslik_font)\n",
    "plt.show()"
   ]
  },
  {
   "cell_type": "code",
   "execution_count": 10,
   "metadata": {},
   "outputs": [
    {
     "data": {
      "image/png": "[encoded data removed]",
      "text/plain": [
       "<Figure size 1080x360 with 2 Axes>"
      ]
     },
     "metadata": {
      "needs_background": "light"
     },
     "output_type": "display_data"
    }
   ],
   "source": [
    "plt.figure(figsize=(15,5))\n",
    "\n",
    "plt.subplot(1,2,1)\n",
    "plt.hist(youtube['goruntulenme_sayisi'])\n",
    "plt.title(\"Goruntulenme sayisi\", fontdict=baslik_font)\n",
    "\n",
    "plt.subplot(1,2,2)\n",
    "plt.hist(np.log(youtube['goruntulenme_sayisi']))\n",
    "plt.title(\"Goruntulenme sayisi (log donusumlu)\", fontdict=baslik_font)\n",
    "\n",
    "plt.show()"
   ]
  },
  {
   "cell_type": "code",
   "execution_count": 11,
   "metadata": {},
   "outputs": [
    {
     "data": {
      "image/png": "[encoded data removed]",
      "text/plain": [
       "<Figure size 1080x360 with 2 Axes>"
      ]
     },
     "metadata": {
      "needs_background": "light"
     },
     "output_type": "display_data"
    }
   ],
   "source": [
    "plt.figure(figsize=(15,5))\n",
    "\n",
    "plt.subplot(1,2,1)\n",
    "plt.boxplot(youtube['goruntulenme_sayisi'])\n",
    "plt.title(\"Goruntulenme sayisi\", fontdict=baslik_font)\n",
    "\n",
    "plt.subplot(1,2,2)\n",
    "plt.boxplot(np.log(youtube['goruntulenme_sayisi']))\n",
    "plt.title(\"Goruntulenme sayisi (log donusumlu)\", fontdict=baslik_font)\n",
    "\n",
    "plt.show()"
   ]
  },
  {
   "cell_type": "code",
   "execution_count": 12,
   "metadata": {},
   "outputs": [
    {
     "data": {
      "text/html": [
       "<div>\n",
       "<style scoped>\n",
       "    .dataframe tbody tr th:only-of-type {\n",
       "        vertical-align: middle;\n",
       "    }\n",
       "\n",
       "    .dataframe tbody tr th {\n",
       "        vertical-align: top;\n",
       "    }\n",
       "\n",
       "    .dataframe thead th {\n",
       "        text-align: right;\n",
       "    }\n",
       "</style>\n",
       "<table border=\"1\" class=\"dataframe\">\n",
       "  <thead>\n",
       "    <tr style=\"text-align: right;\">\n",
       "      <th></th>\n",
       "      <th>esik_degeri</th>\n",
       "      <th>aykiri_deger_sayisi</th>\n",
       "      <th>aykiri_deger_sayisi_log</th>\n",
       "    </tr>\n",
       "  </thead>\n",
       "  <tbody>\n",
       "    <tr>\n",
       "      <th>0</th>\n",
       "      <td>1.0</td>\n",
       "      <td>624.0</td>\n",
       "      <td>326.0</td>\n",
       "    </tr>\n",
       "    <tr>\n",
       "      <th>1</th>\n",
       "      <td>1.5</td>\n",
       "      <td>475.0</td>\n",
       "      <td>58.0</td>\n",
       "    </tr>\n",
       "    <tr>\n",
       "      <th>2</th>\n",
       "      <td>2.0</td>\n",
       "      <td>371.0</td>\n",
       "      <td>19.0</td>\n",
       "    </tr>\n",
       "    <tr>\n",
       "      <th>3</th>\n",
       "      <td>2.5</td>\n",
       "      <td>296.0</td>\n",
       "      <td>14.0</td>\n",
       "    </tr>\n",
       "    <tr>\n",
       "      <th>4</th>\n",
       "      <td>3.0</td>\n",
       "      <td>242.0</td>\n",
       "      <td>13.0</td>\n",
       "    </tr>\n",
       "    <tr>\n",
       "      <th>5</th>\n",
       "      <td>3.5</td>\n",
       "      <td>209.0</td>\n",
       "      <td>8.0</td>\n",
       "    </tr>\n",
       "    <tr>\n",
       "      <th>6</th>\n",
       "      <td>4.0</td>\n",
       "      <td>182.0</td>\n",
       "      <td>6.0</td>\n",
       "    </tr>\n",
       "    <tr>\n",
       "      <th>7</th>\n",
       "      <td>4.5</td>\n",
       "      <td>151.0</td>\n",
       "      <td>4.0</td>\n",
       "    </tr>\n",
       "  </tbody>\n",
       "</table>\n",
       "</div>"
      ],
      "text/plain": [
       "   esik_degeri  aykiri_deger_sayisi  aykiri_deger_sayisi_log\n",
       "0          1.0                624.0                    326.0\n",
       "1          1.5                475.0                     58.0\n",
       "2          2.0                371.0                     19.0\n",
       "3          2.5                296.0                     14.0\n",
       "4          3.0                242.0                     13.0\n",
       "5          3.5                209.0                      8.0\n",
       "6          4.0                182.0                      6.0\n",
       "7          4.5                151.0                      4.0"
      ]
     },
     "execution_count": 12,
     "metadata": {},
     "output_type": "execute_result"
    }
   ],
   "source": [
    "q75_log,q25_log= np.percentile(np.log(youtube['goruntulenme_sayisi']),[75,25])\n",
    "caa_log=q75_log-q25_log\n",
    "esik_degerleri_log=pd.DataFrame(columns=['esik_degeri', 'aykiri_deger_sayisi','aykiri_deger_sayisi_log'])\n",
    "\n",
    "for esik_degeri in np.arange(1,5,0.5):\n",
    "    min_deger_log=q25_log-(caa_log*esik_degeri)\n",
    "    max_deger_log=q75_log+(caa_log*esik_degeri)\n",
    "    min_deger=q25-(caa*esik_degeri)\n",
    "    max_deger=q75+(caa*esik_degeri)\n",
    "    \n",
    "    aykiri_deger_sayisi=len((np.where((youtube['goruntulenme_sayisi']>max_deger)|(youtube['goruntulenme_sayisi']<min_deger))[0]))\n",
    "    \n",
    "    aykiri_deger_sayisi_log=len((np.where((np.log(youtube[\"goruntulenme_sayisi\"]) > max_deger_log)| \n",
    "                                          (np.log(youtube[\"goruntulenme_sayisi\"]) < min_deger_log))[0]))\n",
    "    \n",
    "    esik_degerleri_log=esik_degerleri_log.append({'esik_degeri': esik_degeri,\n",
    "                                          'aykiri_deger_sayisi': aykiri_deger_sayisi, \n",
    "                                          'aykiri_deger_sayisi_log': aykiri_deger_sayisi_log}, \n",
    "                                           ignore_index=True)\n",
    "esik_degerleri_log"
   ]
  },
  {
   "cell_type": "code",
   "execution_count": 14,
   "metadata": {},
   "outputs": [
    {
     "data": {
      "image/png": "[encoded data removed]",
      "text/plain": [
       "<Figure size 432x288 with 1 Axes>"
      ]
     },
     "metadata": {
      "needs_background": "light"
     },
     "output_type": "display_data"
    }
   ],
   "source": [
    "esik_degerleri_log.plot(x = 'esik_degeri', y=['aykiri_deger_sayisi_log', 'aykiri_deger_sayisi'])\n",
    "plt.title('Esik Degeri & Aykiri Deger Sayisi', fontdict=baslik_font )\n",
    "plt.ylabel('Esik Degeri', fontdict=eksen_font )\n",
    "plt.xlabel('Aykiri Deger Sayisi', fontdict=eksen_font )\n",
    "plt.legend(('Logaritmik donusumlu', 'Normal'))\n",
    "plt.show()"
   ]
  },
  {
   "cell_type": "code",
   "execution_count": null,
   "metadata": {},
   "outputs": [],
   "source": []
  }
 ],
 "metadata": {
  "kernelspec": {
   "display_name": "Python 3",
   "language": "python",
   "name": "python3"
  },
  "language_info": {
   "codemirror_mode": {
    "name": "ipython",
    "version": 3
   },
   "file_extension": ".py",
   "mimetype": "text/x-python",
   "name": "python",
   "nbconvert_exporter": "python",
   "pygments_lexer": "ipython3",
   "version": "3.7.3"
  }
 },
 "nbformat": 4,
 "nbformat_minor": 2
}
