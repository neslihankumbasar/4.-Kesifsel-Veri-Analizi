{
 "cells": [
  {
   "cell_type": "code",
   "execution_count": 6,
   "metadata": {},
   "outputs": [
    {
     "name": "stdout",
     "output_type": "stream",
     "text": [
      "<class 'pandas.core.frame.DataFrame'>\n",
      "RangeIndex: 5000 entries, 0 to 4999\n",
      "Data columns (total 6 columns):\n",
      "sira                   5000 non-null object\n",
      "derece                 5000 non-null object\n",
      "kanal_adi              5000 non-null object\n",
      "video_sayisi           5000 non-null object\n",
      "abone_sayisi           5000 non-null object\n",
      "goruntulenme_sayisi    5000 non-null int64\n",
      "dtypes: int64(1), object(5)\n",
      "memory usage: 234.5+ KB\n"
     ]
    }
   ],
   "source": [
    "import pandas as pd\n",
    "import numpy as np\n",
    "youtube=pd.read_csv('C:/Users/neslihan.kumbasar/bootcamp/youtube.csv')\n",
    "youtube\n",
    "youtube.columns=['sira','derece','kanal_adi','video_sayisi','abone_sayisi','goruntulenme_sayisi']\n",
    "youtube.info()"
   ]
  },
  {
   "cell_type": "code",
   "execution_count": 7,
   "metadata": {},
   "outputs": [
    {
     "data": {
      "text/html": [
       "<div>\n",
       "<style scoped>\n",
       "    .dataframe tbody tr th:only-of-type {\n",
       "        vertical-align: middle;\n",
       "    }\n",
       "\n",
       "    .dataframe tbody tr th {\n",
       "        vertical-align: top;\n",
       "    }\n",
       "\n",
       "    .dataframe thead th {\n",
       "        text-align: right;\n",
       "    }\n",
       "</style>\n",
       "<table border=\"1\" class=\"dataframe\">\n",
       "  <thead>\n",
       "    <tr style=\"text-align: right;\">\n",
       "      <th></th>\n",
       "      <th>sira</th>\n",
       "      <th>derece</th>\n",
       "      <th>kanal_adi</th>\n",
       "      <th>video_sayisi</th>\n",
       "      <th>abone_sayisi</th>\n",
       "      <th>goruntulenme_sayisi</th>\n",
       "    </tr>\n",
       "  </thead>\n",
       "  <tbody>\n",
       "    <tr>\n",
       "      <th>0</th>\n",
       "      <td>1st</td>\n",
       "      <td>A++</td>\n",
       "      <td>Zee TV</td>\n",
       "      <td>82757</td>\n",
       "      <td>18752951</td>\n",
       "      <td>20869786591</td>\n",
       "    </tr>\n",
       "    <tr>\n",
       "      <th>1</th>\n",
       "      <td>2nd</td>\n",
       "      <td>A++</td>\n",
       "      <td>T-Series</td>\n",
       "      <td>12661</td>\n",
       "      <td>61196302</td>\n",
       "      <td>47548839843</td>\n",
       "    </tr>\n",
       "    <tr>\n",
       "      <th>2</th>\n",
       "      <td>3rd</td>\n",
       "      <td>A++</td>\n",
       "      <td>Cocomelon - Nursery Rhymes</td>\n",
       "      <td>373</td>\n",
       "      <td>19238251</td>\n",
       "      <td>9793305082</td>\n",
       "    </tr>\n",
       "    <tr>\n",
       "      <th>3</th>\n",
       "      <td>4th</td>\n",
       "      <td>A++</td>\n",
       "      <td>SET India</td>\n",
       "      <td>27323</td>\n",
       "      <td>31180559</td>\n",
       "      <td>22675948293</td>\n",
       "    </tr>\n",
       "    <tr>\n",
       "      <th>4</th>\n",
       "      <td>5th</td>\n",
       "      <td>A++</td>\n",
       "      <td>WWE</td>\n",
       "      <td>36756</td>\n",
       "      <td>32852346</td>\n",
       "      <td>26273668433</td>\n",
       "    </tr>\n",
       "  </tbody>\n",
       "</table>\n",
       "</div>"
      ],
      "text/plain": [
       "  sira derece                   kanal_adi video_sayisi abone_sayisi  \\\n",
       "0  1st   A++                       Zee TV        82757     18752951   \n",
       "1  2nd   A++                     T-Series        12661     61196302   \n",
       "2  3rd   A++   Cocomelon - Nursery Rhymes          373     19238251   \n",
       "3  4th   A++                    SET India        27323     31180559   \n",
       "4  5th   A++                          WWE        36756     32852346   \n",
       "\n",
       "   goruntulenme_sayisi  \n",
       "0          20869786591  \n",
       "1          47548839843  \n",
       "2           9793305082  \n",
       "3          22675948293  \n",
       "4          26273668433  "
      ]
     },
     "execution_count": 7,
     "metadata": {},
     "output_type": "execute_result"
    }
   ],
   "source": [
    "youtube.head()"
   ]
  },
  {
   "cell_type": "code",
   "execution_count": 15,
   "metadata": {},
   "outputs": [
    {
     "data": {
      "text/html": [
       "<div>\n",
       "<style scoped>\n",
       "    .dataframe tbody tr th:only-of-type {\n",
       "        vertical-align: middle;\n",
       "    }\n",
       "\n",
       "    .dataframe tbody tr th {\n",
       "        vertical-align: top;\n",
       "    }\n",
       "\n",
       "    .dataframe thead th {\n",
       "        text-align: right;\n",
       "    }\n",
       "</style>\n",
       "<table border=\"1\" class=\"dataframe\">\n",
       "  <thead>\n",
       "    <tr style=\"text-align: right;\">\n",
       "      <th></th>\n",
       "      <th>sira</th>\n",
       "      <th>derece</th>\n",
       "      <th>kanal_adi</th>\n",
       "      <th>video_sayisi</th>\n",
       "      <th>abone_sayisi</th>\n",
       "      <th>goruntulenme_sayisi</th>\n",
       "    </tr>\n",
       "  </thead>\n",
       "  <tbody>\n",
       "    <tr>\n",
       "      <th>17</th>\n",
       "      <td>18th</td>\n",
       "      <td>A+</td>\n",
       "      <td>Vlad and Nikita</td>\n",
       "      <td>53</td>\n",
       "      <td>--</td>\n",
       "      <td>1428274554</td>\n",
       "    </tr>\n",
       "    <tr>\n",
       "      <th>108</th>\n",
       "      <td>109th</td>\n",
       "      <td>A</td>\n",
       "      <td>BIGFUN</td>\n",
       "      <td>373</td>\n",
       "      <td>--</td>\n",
       "      <td>941376171</td>\n",
       "    </tr>\n",
       "    <tr>\n",
       "      <th>115</th>\n",
       "      <td>116th</td>\n",
       "      <td>A</td>\n",
       "      <td>Bee Kids Games - Children TV</td>\n",
       "      <td>740</td>\n",
       "      <td>--</td>\n",
       "      <td>414535723</td>\n",
       "    </tr>\n",
       "    <tr>\n",
       "      <th>142</th>\n",
       "      <td>143rd</td>\n",
       "      <td>A</td>\n",
       "      <td>ChiChi TV Siêu Nhân</td>\n",
       "      <td>421</td>\n",
       "      <td>--</td>\n",
       "      <td>2600394871</td>\n",
       "    </tr>\n",
       "    <tr>\n",
       "      <th>143</th>\n",
       "      <td>144th</td>\n",
       "      <td>A</td>\n",
       "      <td>MusicTalentNow</td>\n",
       "      <td>1487</td>\n",
       "      <td>--</td>\n",
       "      <td>3252752212</td>\n",
       "    </tr>\n",
       "  </tbody>\n",
       "</table>\n",
       "</div>"
      ],
      "text/plain": [
       "      sira derece                     kanal_adi video_sayisi abone_sayisi  \\\n",
       "17    18th    A+                Vlad and Nikita           53          --    \n",
       "108  109th     A                         BIGFUN          373          --    \n",
       "115  116th     A   Bee Kids Games - Children TV          740          --    \n",
       "142  143rd     A            ChiChi TV Siêu Nhân          421          --    \n",
       "143  144th     A                 MusicTalentNow         1487          --    \n",
       "\n",
       "     goruntulenme_sayisi  \n",
       "17            1428274554  \n",
       "108            941376171  \n",
       "115            414535723  \n",
       "142           2600394871  \n",
       "143           3252752212  "
      ]
     },
     "metadata": {},
     "output_type": "display_data"
    },
    {
     "name": "stdout",
     "output_type": "stream",
     "text": [
      "Eksik degerli kayit sayisi:  390\n"
     ]
    }
   ],
   "source": [
    "eksik_degerli=youtube[(youtube[\"video_sayisi\"].str.strip()=='--')|(youtube[\"abone_sayisi\"].str.strip()=='--')]\n",
    "display(eksik_degerli.head())\n",
    "print(\"Eksik degerli kayit sayisi: \", len(eksik_degerli))"
   ]
  },
  {
   "cell_type": "code",
   "execution_count": 20,
   "metadata": {},
   "outputs": [
    {
     "data": {
      "text/plain": [
       "sira                   5000\n",
       "derece                    6\n",
       "kanal_adi              4993\n",
       "video_sayisi           2286\n",
       "abone_sayisi           4612\n",
       "goruntulenme_sayisi    5000\n",
       "dtype: int64"
      ]
     },
     "execution_count": 20,
     "metadata": {},
     "output_type": "execute_result"
    }
   ],
   "source": [
    "youtube.nunique()"
   ]
  },
  {
   "cell_type": "code",
   "execution_count": 21,
   "metadata": {},
   "outputs": [],
   "source": [
    "def goruntulenmeyi_kategorize_et(adet):\n",
    "    if adet >= 1000000000:\n",
    "        return 1\n",
    "    elif adet >= 100000000:\n",
    "        return 2\n",
    "    else:\n",
    "        return 3"
   ]
  },
  {
   "cell_type": "code",
   "execution_count": 22,
   "metadata": {},
   "outputs": [],
   "source": [
    "youtube[\"goruntulenme_grup\"]=youtube[\"goruntulenme_sayisi\"].apply(goruntulenmeyi_kategorize_et) "
   ]
  },
  {
   "cell_type": "code",
   "execution_count": 23,
   "metadata": {},
   "outputs": [
    {
     "data": {
      "text/html": [
       "<div>\n",
       "<style scoped>\n",
       "    .dataframe tbody tr th:only-of-type {\n",
       "        vertical-align: middle;\n",
       "    }\n",
       "\n",
       "    .dataframe tbody tr th {\n",
       "        vertical-align: top;\n",
       "    }\n",
       "\n",
       "    .dataframe thead th {\n",
       "        text-align: right;\n",
       "    }\n",
       "</style>\n",
       "<table border=\"1\" class=\"dataframe\">\n",
       "  <thead>\n",
       "    <tr style=\"text-align: right;\">\n",
       "      <th></th>\n",
       "      <th>sira</th>\n",
       "      <th>derece</th>\n",
       "      <th>kanal_adi</th>\n",
       "      <th>video_sayisi</th>\n",
       "      <th>abone_sayisi</th>\n",
       "      <th>goruntulenme_sayisi</th>\n",
       "      <th>goruntulenme_grup</th>\n",
       "    </tr>\n",
       "  </thead>\n",
       "  <tbody>\n",
       "    <tr>\n",
       "      <th>0</th>\n",
       "      <td>1st</td>\n",
       "      <td>A++</td>\n",
       "      <td>Zee TV</td>\n",
       "      <td>82757</td>\n",
       "      <td>18752951</td>\n",
       "      <td>20869786591</td>\n",
       "      <td>1</td>\n",
       "    </tr>\n",
       "    <tr>\n",
       "      <th>1</th>\n",
       "      <td>2nd</td>\n",
       "      <td>A++</td>\n",
       "      <td>T-Series</td>\n",
       "      <td>12661</td>\n",
       "      <td>61196302</td>\n",
       "      <td>47548839843</td>\n",
       "      <td>1</td>\n",
       "    </tr>\n",
       "    <tr>\n",
       "      <th>2</th>\n",
       "      <td>3rd</td>\n",
       "      <td>A++</td>\n",
       "      <td>Cocomelon - Nursery Rhymes</td>\n",
       "      <td>373</td>\n",
       "      <td>19238251</td>\n",
       "      <td>9793305082</td>\n",
       "      <td>1</td>\n",
       "    </tr>\n",
       "    <tr>\n",
       "      <th>3</th>\n",
       "      <td>4th</td>\n",
       "      <td>A++</td>\n",
       "      <td>SET India</td>\n",
       "      <td>27323</td>\n",
       "      <td>31180559</td>\n",
       "      <td>22675948293</td>\n",
       "      <td>1</td>\n",
       "    </tr>\n",
       "    <tr>\n",
       "      <th>4</th>\n",
       "      <td>5th</td>\n",
       "      <td>A++</td>\n",
       "      <td>WWE</td>\n",
       "      <td>36756</td>\n",
       "      <td>32852346</td>\n",
       "      <td>26273668433</td>\n",
       "      <td>1</td>\n",
       "    </tr>\n",
       "  </tbody>\n",
       "</table>\n",
       "</div>"
      ],
      "text/plain": [
       "  sira derece                   kanal_adi video_sayisi abone_sayisi  \\\n",
       "0  1st   A++                       Zee TV        82757     18752951   \n",
       "1  2nd   A++                     T-Series        12661     61196302   \n",
       "2  3rd   A++   Cocomelon - Nursery Rhymes          373     19238251   \n",
       "3  4th   A++                    SET India        27323     31180559   \n",
       "4  5th   A++                          WWE        36756     32852346   \n",
       "\n",
       "   goruntulenme_sayisi  goruntulenme_grup  \n",
       "0          20869786591                  1  \n",
       "1          47548839843                  1  \n",
       "2           9793305082                  1  \n",
       "3          22675948293                  1  \n",
       "4          26273668433                  1  "
      ]
     },
     "metadata": {},
     "output_type": "display_data"
    }
   ],
   "source": [
    "display(youtube.head())"
   ]
  },
  {
   "cell_type": "code",
   "execution_count": null,
   "metadata": {},
   "outputs": [],
   "source": [
    "youtube.groupby()"
   ]
  }
 ],
 "metadata": {
  "kernelspec": {
   "display_name": "Python 3",
   "language": "python",
   "name": "python3"
  },
  "language_info": {
   "codemirror_mode": {
    "name": "ipython",
    "version": 3
   },
   "file_extension": ".py",
   "mimetype": "text/x-python",
   "name": "python",
   "nbconvert_exporter": "python",
   "pygments_lexer": "ipython3",
   "version": "3.7.3"
  }
 },
 "nbformat": 4,
 "nbformat_minor": 2
}
